{
 "cells": [
  {
   "cell_type": "code",
   "execution_count": 3,
   "id": "b8ca7e5d",
   "metadata": {},
   "outputs": [],
   "source": [
    "import pandas as pd\n",
    "from sklearn.datasets import load_iris\n",
    "x = pd.DataFrame(load_iris().data)\n",
    "y = pd.DataFrame(load_iris().target)"
   ]
  },
  {
   "cell_type": "code",
   "execution_count": 4,
   "id": "39ef3989",
   "metadata": {},
   "outputs": [],
   "source": [
    "import pandas as pd\n",
    "import numpy as np"
   ]
  },
  {
   "cell_type": "code",
   "execution_count": 5,
   "id": "fb7cd8d0",
   "metadata": {},
   "outputs": [],
   "source": [
    "from sklearn.model_selection import KFold\n",
    "from sklearn.metrics import accuracy_score"
   ]
  },
  {
   "cell_type": "code",
   "execution_count": 6,
   "id": "c9c9bfdc",
   "metadata": {},
   "outputs": [],
   "source": [
    "kf = KFold(n_splits=5)\n",
    "for train,test in kf.split(x,y):\n",
    "    x_train,x_test,y_train,y_test = x.iloc[train],x.iloc[test],y.iloc[train],y.iloc[test]"
   ]
  },
  {
   "cell_type": "code",
   "execution_count": 7,
   "id": "ad5ea4bd",
   "metadata": {},
   "outputs": [
    {
     "data": {
      "text/plain": [
       "(120, 4)"
      ]
     },
     "execution_count": 7,
     "metadata": {},
     "output_type": "execute_result"
    }
   ],
   "source": [
    "x_train.shape"
   ]
  },
  {
   "cell_type": "code",
   "execution_count": 8,
   "id": "a9633f34",
   "metadata": {},
   "outputs": [
    {
     "name": "stderr",
     "output_type": "stream",
     "text": [
      "100%|██████████████████████████████████████████████████████████████████████████████████| 29/29 [00:02<00:00, 14.21it/s]\n"
     ]
    }
   ],
   "source": [
    "from lazypredict.Supervised import LazyClassifier\n",
    "clf = LazyClassifier(verbose=0,ignore_warnings=True, custom_metric=None)\n",
    "models,predictions = clf.fit(x_train, x_test, y_train, y_test)"
   ]
  },
  {
   "cell_type": "code",
   "execution_count": 9,
   "id": "4444f10d",
   "metadata": {},
   "outputs": [
    {
     "name": "stdout",
     "output_type": "stream",
     "text": [
      "                               Accuracy  Balanced Accuracy ROC AUC  F1 Score  \\\n",
      "Model                                                                          \n",
      "QuadraticDiscriminantAnalysis      0.97               0.97    None      0.98   \n",
      "GaussianNB                         0.93               0.93    None      0.97   \n",
      "LinearDiscriminantAnalysis         0.90               0.90    None      0.95   \n",
      "SGDClassifier                      0.90               0.90    None      0.95   \n",
      "PassiveAggressiveClassifier        0.90               0.90    None      0.95   \n",
      "Perceptron                         0.83               0.83    None      0.91   \n",
      "ExtraTreeClassifier                0.83               0.83    None      0.91   \n",
      "LabelPropagation                   0.83               0.83    None      0.91   \n",
      "LabelSpreading                     0.83               0.83    None      0.91   \n",
      "LinearSVC                          0.80               0.80    None      0.89   \n",
      "SVC                                0.80               0.80    None      0.89   \n",
      "NearestCentroid                    0.80               0.80    None      0.89   \n",
      "LGBMClassifier                     0.80               0.80    None      0.89   \n",
      "ExtraTreesClassifier               0.80               0.80    None      0.89   \n",
      "DecisionTreeClassifier             0.80               0.80    None      0.89   \n",
      "LogisticRegression                 0.77               0.77    None      0.87   \n",
      "RandomForestClassifier             0.77               0.77    None      0.87   \n",
      "BaggingClassifier                  0.73               0.73    None      0.85   \n",
      "KNeighborsClassifier               0.73               0.73    None      0.85   \n",
      "NuSVC                              0.73               0.73    None      0.85   \n",
      "XGBClassifier                      0.73               0.73    None      0.85   \n",
      "AdaBoostClassifier                 0.73               0.73    None      0.85   \n",
      "RidgeClassifier                    0.57               0.57    None      0.72   \n",
      "RidgeClassifierCV                  0.57               0.57    None      0.72   \n",
      "CalibratedClassifierCV             0.53               0.53    None      0.70   \n",
      "DummyClassifier                    0.00               0.00    None      0.00   \n",
      "BernoulliNB                        0.00               0.00    None      0.00   \n",
      "\n",
      "                               Time Taken  \n",
      "Model                                      \n",
      "QuadraticDiscriminantAnalysis        0.04  \n",
      "GaussianNB                           0.02  \n",
      "LinearDiscriminantAnalysis           0.04  \n",
      "SGDClassifier                        0.03  \n",
      "PassiveAggressiveClassifier          0.02  \n",
      "Perceptron                           0.02  \n",
      "ExtraTreeClassifier                  0.02  \n",
      "LabelPropagation                     0.03  \n",
      "LabelSpreading                       0.03  \n",
      "LinearSVC                            0.03  \n",
      "SVC                                  0.02  \n",
      "NearestCentroid                      0.03  \n",
      "LGBMClassifier                       0.13  \n",
      "ExtraTreesClassifier                 0.26  \n",
      "DecisionTreeClassifier               0.02  \n",
      "LogisticRegression                   0.04  \n",
      "RandomForestClassifier               0.30  \n",
      "BaggingClassifier                    0.07  \n",
      "KNeighborsClassifier                 0.03  \n",
      "NuSVC                                0.03  \n",
      "XGBClassifier                        0.32  \n",
      "AdaBoostClassifier                   0.23  \n",
      "RidgeClassifier                      0.04  \n",
      "RidgeClassifierCV                    0.03  \n",
      "CalibratedClassifierCV               0.13  \n",
      "DummyClassifier                      0.02  \n",
      "BernoulliNB                          0.03  \n"
     ]
    }
   ],
   "source": [
    "print(models)"
   ]
  },
  {
   "cell_type": "code",
   "execution_count": 10,
   "id": "e7f3f9ab",
   "metadata": {},
   "outputs": [
    {
     "data": {
      "text/html": [
       "<div>\n",
       "<style scoped>\n",
       "    .dataframe tbody tr th:only-of-type {\n",
       "        vertical-align: middle;\n",
       "    }\n",
       "\n",
       "    .dataframe tbody tr th {\n",
       "        vertical-align: top;\n",
       "    }\n",
       "\n",
       "    .dataframe thead th {\n",
       "        text-align: right;\n",
       "    }\n",
       "</style>\n",
       "<table border=\"1\" class=\"dataframe\">\n",
       "  <thead>\n",
       "    <tr style=\"text-align: right;\">\n",
       "      <th></th>\n",
       "      <th>Time</th>\n",
       "      <th>V1</th>\n",
       "      <th>V2</th>\n",
       "      <th>V3</th>\n",
       "      <th>V4</th>\n",
       "      <th>V5</th>\n",
       "      <th>V6</th>\n",
       "      <th>V7</th>\n",
       "      <th>V8</th>\n",
       "      <th>V9</th>\n",
       "      <th>...</th>\n",
       "      <th>V21</th>\n",
       "      <th>V22</th>\n",
       "      <th>V23</th>\n",
       "      <th>V24</th>\n",
       "      <th>V25</th>\n",
       "      <th>V26</th>\n",
       "      <th>V27</th>\n",
       "      <th>V28</th>\n",
       "      <th>Amount</th>\n",
       "      <th>Class</th>\n",
       "    </tr>\n",
       "  </thead>\n",
       "  <tbody>\n",
       "    <tr>\n",
       "      <th>0</th>\n",
       "      <td>0.00</td>\n",
       "      <td>-1.36</td>\n",
       "      <td>-0.07</td>\n",
       "      <td>2.54</td>\n",
       "      <td>1.38</td>\n",
       "      <td>-0.34</td>\n",
       "      <td>0.46</td>\n",
       "      <td>0.24</td>\n",
       "      <td>0.10</td>\n",
       "      <td>0.36</td>\n",
       "      <td>...</td>\n",
       "      <td>-0.02</td>\n",
       "      <td>0.28</td>\n",
       "      <td>-0.11</td>\n",
       "      <td>0.07</td>\n",
       "      <td>0.13</td>\n",
       "      <td>-0.19</td>\n",
       "      <td>0.13</td>\n",
       "      <td>-0.02</td>\n",
       "      <td>149.62</td>\n",
       "      <td>0</td>\n",
       "    </tr>\n",
       "    <tr>\n",
       "      <th>1</th>\n",
       "      <td>0.00</td>\n",
       "      <td>1.19</td>\n",
       "      <td>0.27</td>\n",
       "      <td>0.17</td>\n",
       "      <td>0.45</td>\n",
       "      <td>0.06</td>\n",
       "      <td>-0.08</td>\n",
       "      <td>-0.08</td>\n",
       "      <td>0.09</td>\n",
       "      <td>-0.26</td>\n",
       "      <td>...</td>\n",
       "      <td>-0.23</td>\n",
       "      <td>-0.64</td>\n",
       "      <td>0.10</td>\n",
       "      <td>-0.34</td>\n",
       "      <td>0.17</td>\n",
       "      <td>0.13</td>\n",
       "      <td>-0.01</td>\n",
       "      <td>0.01</td>\n",
       "      <td>2.69</td>\n",
       "      <td>0</td>\n",
       "    </tr>\n",
       "    <tr>\n",
       "      <th>2</th>\n",
       "      <td>1.00</td>\n",
       "      <td>-1.36</td>\n",
       "      <td>-1.34</td>\n",
       "      <td>1.77</td>\n",
       "      <td>0.38</td>\n",
       "      <td>-0.50</td>\n",
       "      <td>1.80</td>\n",
       "      <td>0.79</td>\n",
       "      <td>0.25</td>\n",
       "      <td>-1.51</td>\n",
       "      <td>...</td>\n",
       "      <td>0.25</td>\n",
       "      <td>0.77</td>\n",
       "      <td>0.91</td>\n",
       "      <td>-0.69</td>\n",
       "      <td>-0.33</td>\n",
       "      <td>-0.14</td>\n",
       "      <td>-0.06</td>\n",
       "      <td>-0.06</td>\n",
       "      <td>378.66</td>\n",
       "      <td>0</td>\n",
       "    </tr>\n",
       "    <tr>\n",
       "      <th>3</th>\n",
       "      <td>1.00</td>\n",
       "      <td>-0.97</td>\n",
       "      <td>-0.19</td>\n",
       "      <td>1.79</td>\n",
       "      <td>-0.86</td>\n",
       "      <td>-0.01</td>\n",
       "      <td>1.25</td>\n",
       "      <td>0.24</td>\n",
       "      <td>0.38</td>\n",
       "      <td>-1.39</td>\n",
       "      <td>...</td>\n",
       "      <td>-0.11</td>\n",
       "      <td>0.01</td>\n",
       "      <td>-0.19</td>\n",
       "      <td>-1.18</td>\n",
       "      <td>0.65</td>\n",
       "      <td>-0.22</td>\n",
       "      <td>0.06</td>\n",
       "      <td>0.06</td>\n",
       "      <td>123.50</td>\n",
       "      <td>0</td>\n",
       "    </tr>\n",
       "    <tr>\n",
       "      <th>4</th>\n",
       "      <td>2.00</td>\n",
       "      <td>-1.16</td>\n",
       "      <td>0.88</td>\n",
       "      <td>1.55</td>\n",
       "      <td>0.40</td>\n",
       "      <td>-0.41</td>\n",
       "      <td>0.10</td>\n",
       "      <td>0.59</td>\n",
       "      <td>-0.27</td>\n",
       "      <td>0.82</td>\n",
       "      <td>...</td>\n",
       "      <td>-0.01</td>\n",
       "      <td>0.80</td>\n",
       "      <td>-0.14</td>\n",
       "      <td>0.14</td>\n",
       "      <td>-0.21</td>\n",
       "      <td>0.50</td>\n",
       "      <td>0.22</td>\n",
       "      <td>0.22</td>\n",
       "      <td>69.99</td>\n",
       "      <td>0</td>\n",
       "    </tr>\n",
       "  </tbody>\n",
       "</table>\n",
       "<p>5 rows × 31 columns</p>\n",
       "</div>"
      ],
      "text/plain": [
       "   Time    V1    V2   V3    V4    V5    V6    V7    V8    V9  ...   V21   V22  \\\n",
       "0  0.00 -1.36 -0.07 2.54  1.38 -0.34  0.46  0.24  0.10  0.36  ... -0.02  0.28   \n",
       "1  0.00  1.19  0.27 0.17  0.45  0.06 -0.08 -0.08  0.09 -0.26  ... -0.23 -0.64   \n",
       "2  1.00 -1.36 -1.34 1.77  0.38 -0.50  1.80  0.79  0.25 -1.51  ...  0.25  0.77   \n",
       "3  1.00 -0.97 -0.19 1.79 -0.86 -0.01  1.25  0.24  0.38 -1.39  ... -0.11  0.01   \n",
       "4  2.00 -1.16  0.88 1.55  0.40 -0.41  0.10  0.59 -0.27  0.82  ... -0.01  0.80   \n",
       "\n",
       "    V23   V24   V25   V26   V27   V28  Amount  Class  \n",
       "0 -0.11  0.07  0.13 -0.19  0.13 -0.02  149.62      0  \n",
       "1  0.10 -0.34  0.17  0.13 -0.01  0.01    2.69      0  \n",
       "2  0.91 -0.69 -0.33 -0.14 -0.06 -0.06  378.66      0  \n",
       "3 -0.19 -1.18  0.65 -0.22  0.06  0.06  123.50      0  \n",
       "4 -0.14  0.14 -0.21  0.50  0.22  0.22   69.99      0  \n",
       "\n",
       "[5 rows x 31 columns]"
      ]
     },
     "execution_count": 10,
     "metadata": {},
     "output_type": "execute_result"
    }
   ],
   "source": [
    "df = pd.read_csv('creditcard.csv')\n",
    "df.head()"
   ]
  },
  {
   "cell_type": "code",
   "execution_count": 11,
   "id": "36747b8c",
   "metadata": {},
   "outputs": [
    {
     "data": {
      "text/plain": [
       "(284807, 31)"
      ]
     },
     "execution_count": 11,
     "metadata": {},
     "output_type": "execute_result"
    }
   ],
   "source": [
    "df.shape"
   ]
  },
  {
   "cell_type": "code",
   "execution_count": 12,
   "id": "e51b9bd5",
   "metadata": {},
   "outputs": [
    {
     "data": {
      "text/html": [
       "<div>\n",
       "<style scoped>\n",
       "    .dataframe tbody tr th:only-of-type {\n",
       "        vertical-align: middle;\n",
       "    }\n",
       "\n",
       "    .dataframe tbody tr th {\n",
       "        vertical-align: top;\n",
       "    }\n",
       "\n",
       "    .dataframe thead th {\n",
       "        text-align: right;\n",
       "    }\n",
       "</style>\n",
       "<table border=\"1\" class=\"dataframe\">\n",
       "  <thead>\n",
       "    <tr style=\"text-align: right;\">\n",
       "      <th></th>\n",
       "      <th>Class</th>\n",
       "    </tr>\n",
       "  </thead>\n",
       "  <tbody>\n",
       "    <tr>\n",
       "      <th>0</th>\n",
       "      <td>0</td>\n",
       "    </tr>\n",
       "    <tr>\n",
       "      <th>1</th>\n",
       "      <td>0</td>\n",
       "    </tr>\n",
       "    <tr>\n",
       "      <th>2</th>\n",
       "      <td>0</td>\n",
       "    </tr>\n",
       "    <tr>\n",
       "      <th>3</th>\n",
       "      <td>0</td>\n",
       "    </tr>\n",
       "    <tr>\n",
       "      <th>4</th>\n",
       "      <td>0</td>\n",
       "    </tr>\n",
       "    <tr>\n",
       "      <th>...</th>\n",
       "      <td>...</td>\n",
       "    </tr>\n",
       "    <tr>\n",
       "      <th>284802</th>\n",
       "      <td>0</td>\n",
       "    </tr>\n",
       "    <tr>\n",
       "      <th>284803</th>\n",
       "      <td>0</td>\n",
       "    </tr>\n",
       "    <tr>\n",
       "      <th>284804</th>\n",
       "      <td>0</td>\n",
       "    </tr>\n",
       "    <tr>\n",
       "      <th>284805</th>\n",
       "      <td>0</td>\n",
       "    </tr>\n",
       "    <tr>\n",
       "      <th>284806</th>\n",
       "      <td>0</td>\n",
       "    </tr>\n",
       "  </tbody>\n",
       "</table>\n",
       "<p>284807 rows × 1 columns</p>\n",
       "</div>"
      ],
      "text/plain": [
       "        Class\n",
       "0           0\n",
       "1           0\n",
       "2           0\n",
       "3           0\n",
       "4           0\n",
       "...       ...\n",
       "284802      0\n",
       "284803      0\n",
       "284804      0\n",
       "284805      0\n",
       "284806      0\n",
       "\n",
       "[284807 rows x 1 columns]"
      ]
     },
     "execution_count": 12,
     "metadata": {},
     "output_type": "execute_result"
    }
   ],
   "source": [
    "x = df.drop('Class',axis = 1)\n",
    "y = pd.DataFrame(df.iloc[:,-1])\n",
    "y"
   ]
  },
  {
   "cell_type": "code",
   "execution_count": 13,
   "id": "ea0f3a71",
   "metadata": {},
   "outputs": [],
   "source": [
    "for train,test in kf.split(x,y):\n",
    "    x_train,x_test,y_train,y_test = x.iloc[train],x.iloc[test],y.iloc[train],y.iloc[test]"
   ]
  },
  {
   "cell_type": "code",
   "execution_count": 14,
   "id": "736148dd",
   "metadata": {},
   "outputs": [
    {
     "data": {
      "text/plain": [
       "(227846, 30)"
      ]
     },
     "execution_count": 14,
     "metadata": {},
     "output_type": "execute_result"
    }
   ],
   "source": [
    "x_train.shape"
   ]
  },
  {
   "cell_type": "code",
   "execution_count": 15,
   "id": "55fef254",
   "metadata": {},
   "outputs": [
    {
     "name": "stderr",
     "output_type": "stream",
     "text": [
      "100%|██████████████████████████████████████████████████████████████████████████████████| 29/29 [35:06<00:00, 72.64s/it]\n"
     ]
    }
   ],
   "source": [
    "clf = LazyClassifier(verbose=0,ignore_warnings=True, custom_metric=None)\n",
    "models,predictions = clf.fit(x_train, x_test, y_train, y_test)"
   ]
  },
  {
   "cell_type": "code",
   "execution_count": 16,
   "id": "38a40538",
   "metadata": {},
   "outputs": [
    {
     "name": "stdout",
     "output_type": "stream",
     "text": [
      "                               Accuracy  Balanced Accuracy  ROC AUC  F1 Score  \\\n",
      "Model                                                                           \n",
      "QuadraticDiscriminantAnalysis      0.98               0.90     0.90      0.99   \n",
      "GaussianNB                         0.98               0.89     0.89      0.99   \n",
      "PassiveAggressiveClassifier        1.00               0.87     0.87      1.00   \n",
      "KNeighborsClassifier               1.00               0.85     0.85      1.00   \n",
      "XGBClassifier                      1.00               0.85     0.85      1.00   \n",
      "RandomForestClassifier             1.00               0.85     0.85      1.00   \n",
      "DecisionTreeClassifier             1.00               0.84     0.84      1.00   \n",
      "ExtraTreesClassifier               1.00               0.83     0.83      1.00   \n",
      "BaggingClassifier                  1.00               0.83     0.83      1.00   \n",
      "ExtraTreeClassifier                1.00               0.83     0.83      1.00   \n",
      "CalibratedClassifierCV             1.00               0.82     0.82      1.00   \n",
      "BernoulliNB                        1.00               0.79     0.79      1.00   \n",
      "SVC                                1.00               0.78     0.78      1.00   \n",
      "LogisticRegression                 1.00               0.78     0.78      1.00   \n",
      "LGBMClassifier                     1.00               0.78     0.78      1.00   \n",
      "LinearSVC                          1.00               0.77     0.77      1.00   \n",
      "LinearDiscriminantAnalysis         1.00               0.76     0.76      1.00   \n",
      "AdaBoostClassifier                 1.00               0.76     0.76      1.00   \n",
      "NearestCentroid                    1.00               0.74     0.74      1.00   \n",
      "SGDClassifier                      1.00               0.73     0.73      1.00   \n",
      "Perceptron                         1.00               0.67     0.67      1.00   \n",
      "RidgeClassifier                    1.00               0.56     0.56      1.00   \n",
      "RidgeClassifierCV                  1.00               0.56     0.56      1.00   \n",
      "DummyClassifier                    1.00               0.50     0.50      1.00   \n",
      "\n",
      "                               Time Taken  \n",
      "Model                                      \n",
      "QuadraticDiscriminantAnalysis        1.50  \n",
      "GaussianNB                           0.93  \n",
      "PassiveAggressiveClassifier          1.24  \n",
      "KNeighborsClassifier                34.62  \n",
      "XGBClassifier                       61.38  \n",
      "RandomForestClassifier             492.95  \n",
      "DecisionTreeClassifier              44.69  \n",
      "ExtraTreesClassifier                42.39  \n",
      "BaggingClassifier                  282.90  \n",
      "ExtraTreeClassifier                  1.10  \n",
      "CalibratedClassifierCV             440.37  \n",
      "BernoulliNB                          2.19  \n",
      "SVC                                410.00  \n",
      "LogisticRegression                   3.22  \n",
      "LGBMClassifier                       3.46  \n",
      "LinearSVC                          115.93  \n",
      "LinearDiscriminantAnalysis           2.91  \n",
      "AdaBoostClassifier                 155.18  \n",
      "NearestCentroid                      0.80  \n",
      "SGDClassifier                        1.50  \n",
      "Perceptron                           1.33  \n",
      "RidgeClassifier                      0.93  \n",
      "RidgeClassifierCV                    1.86  \n",
      "DummyClassifier                      0.62  \n"
     ]
    }
   ],
   "source": [
    "print(models)"
   ]
  },
  {
   "cell_type": "code",
   "execution_count": null,
   "id": "fed066cc",
   "metadata": {},
   "outputs": [],
   "source": []
  }
 ],
 "metadata": {
  "kernelspec": {
   "display_name": "Python 3 (ipykernel)",
   "language": "python",
   "name": "python3"
  },
  "language_info": {
   "codemirror_mode": {
    "name": "ipython",
    "version": 3
   },
   "file_extension": ".py",
   "mimetype": "text/x-python",
   "name": "python",
   "nbconvert_exporter": "python",
   "pygments_lexer": "ipython3",
   "version": "3.10.2"
  }
 },
 "nbformat": 4,
 "nbformat_minor": 5
}
